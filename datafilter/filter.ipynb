{
 "cells": [
  {
   "cell_type": "code",
   "execution_count": 1,
   "metadata": {},
   "outputs": [],
   "source": [
    "import numpy as np\n",
    "import json\n",
    "import os\n",
    "from utils import visualize\n",
    "dataset_path = '2022-3-9-1400_segments'"
   ]
  },
  {
   "cell_type": "code",
   "execution_count": 2,
   "metadata": {},
   "outputs": [],
   "source": [
    "json_name = os.listdir(dataset_path)\n",
    "json_path = [os.path.join(dataset_path, i) for i in json_name]"
   ]
  },
  {
   "cell_type": "code",
   "execution_count": null,
   "metadata": {},
   "outputs": [],
   "source": [
    "for i in range(len(json_path)):\n",
    "    with open(json_path[i],'r') as f:\n",
    "            x = json.load(f)\n",
    "\n",
    "    visualize(np.array(x), 10)"
   ]
  },
  {
   "cell_type": "code",
   "execution_count": 85,
   "metadata": {},
   "outputs": [
    {
     "name": "stdout",
     "output_type": "stream",
     "text": [
      "(120, 67, 2) (32, 67, 2)\n"
     ]
    }
   ],
   "source": [
    "with open(json_path[18],'r') as f:\n",
    "        x = json.load(f)\n",
    "\n",
    "visualize(np.array(x), 32)"
   ]
  },
  {
   "cell_type": "markdown",
   "metadata": {},
   "source": [
    "keep indices point"
   ]
  },
  {
   "cell_type": "code",
   "execution_count": 6,
   "metadata": {},
   "outputs": [
    {
     "name": "stdout",
     "output_type": "stream",
     "text": [
      "(120, 45, 2)\n"
     ]
    }
   ],
   "source": [
    "import numpy as np\n",
    "\n",
    "# 假設 data 是你的原始數據，形狀為 (64, 67, 2)\n",
    "data = np.array(x)  # 模擬數據\n",
    "\n",
    "# 指定你想保留的點的索引\n",
    "indices = connections = [i for i in range(20)] + [(i+21) for i in range(20)] + [(i+42) for i in [0,11,12,13,14]]\n",
    "\n",
    "# 使用 numpy 的索引來選擇這些點\n",
    "selected_data = data[:, indices, :]\n",
    "\n",
    "# 現在 selected_data 的形狀應該是 (64, 5, 2)，只包含你選擇的點\n",
    "print(selected_data.shape)"
   ]
  },
  {
   "cell_type": "code",
   "execution_count": null,
   "metadata": {},
   "outputs": [],
   "source": [
    "visualize(selected_data,32)"
   ]
  },
  {
   "cell_type": "markdown",
   "metadata": {},
   "source": [
    "filter"
   ]
  },
  {
   "cell_type": "code",
   "execution_count": 86,
   "metadata": {},
   "outputs": [
    {
     "name": "stdout",
     "output_type": "stream",
     "text": [
      "17.54313546299089\n",
      "14.377115685187334\n",
      "11.610217383558181\n",
      "8.414184609453953\n",
      "6.832209541646206\n",
      "4.216491875158423\n",
      "7.016965591112476\n",
      "11.87082625041838\n",
      "14.144022266179627\n",
      "10.871368869388334\n",
      "11.716520962347493\n",
      "11.40202236686377\n",
      "10.17068838628662\n",
      "9.51446772839512\n",
      "10.116483974194969\n",
      "3.941538452611737\n",
      "4.1748150844278555\n",
      "4.098649088132789\n",
      "0.7809591663302488\n",
      "8.955641578704991\n",
      "15.099848375570698\n",
      "12.50793391061425\n",
      "7.73717448154283\n",
      "11.307575618489741\n",
      "13.539931647761481\n",
      "6.419919195245672\n",
      "6.765071642969361\n",
      "1.2466439191652718\n",
      "3.8046110271500804\n",
      "6.896578976946861\n",
      "12.756129940318866\n",
      "8.470740836436683\n",
      "9.223227809280273\n",
      "12.430323698231653\n",
      "13.453739681778623\n",
      "10.212389487872032\n",
      "8.284718880015165\n",
      "12.92819591967249\n",
      "11.241037170959286\n",
      "9.45198753361852\n",
      "9.358841880338748\n",
      "11.167242398494828\n"
     ]
    }
   ],
   "source": [
    "import numpy as np\n",
    "\n",
    "    # 假設 data 是你的原始數據，形狀為 (64, 67, 2)\n",
    "for i in range(len(json_path)):\n",
    "    with open(json_path[i],'r') as f:\n",
    "            x = json.load(f)\n",
    "\n",
    "    # visualize(np.array(x), 10)\n",
    "\n",
    "    data = np.array(x)  # 模擬數據\n",
    "\n",
    "    # 計算每一幀與前一幀之間的點的距離差\n",
    "    differences = np.diff(data, axis=0)\n",
    "    distances = np.linalg.norm(differences, axis=2)\n",
    "\n",
    "    # 計算每一幀的點距離變化的標準差\n",
    "    standard_deviation_per_frame = np.std(distances, axis=1)\n",
    "\n",
    "    # 設定閾值，這個值可能需要根據實際數據進行調整\n",
    "    threshold = 5  # 閾值可以根據實際情況調整\n",
    "\n",
    "    print(np.mean(standard_deviation_per_frame))"
   ]
  }
 ],
 "metadata": {
  "kernelspec": {
   "display_name": "base",
   "language": "python",
   "name": "python3"
  },
  "language_info": {
   "codemirror_mode": {
    "name": "ipython",
    "version": 3
   },
   "file_extension": ".py",
   "mimetype": "text/x-python",
   "name": "python",
   "nbconvert_exporter": "python",
   "pygments_lexer": "ipython3",
   "version": "3.9.13"
  }
 },
 "nbformat": 4,
 "nbformat_minor": 2
}
