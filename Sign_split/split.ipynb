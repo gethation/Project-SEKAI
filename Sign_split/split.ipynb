{
 "cells": [
  {
   "cell_type": "code",
   "execution_count": 19,
   "metadata": {},
   "outputs": [],
   "source": [
    "import json \n",
    "import os\n",
    "from tqdm.auto import tqdm\n",
    "from utils import web_cam, node_json, split_func, visualize\n",
    "import gdown\n",
    "import numpy as np\n",
    "# gdown.download('https://drive.google.com/uc?id=16_Ntdx-Wvn5Lf2F1MmcdGrPasNHwjkin', \n",
    "#                r'model\\epoch 3-4200 weight.pt')\n",
    "# gdown.download('https://drive.google.com/uc?id=1Znb_UM4PmlL-qXY5iBaU9hQcxeQC4OkI',\n",
    "#                'model\\checkpoint.tar')"
   ]
  },
  {
   "cell_type": "code",
   "execution_count": 63,
   "metadata": {},
   "outputs": [
    {
     "name": "stdout",
     "output_type": "stream",
     "text": [
      "[[0, 15], [1, 18], [2, 15], [3, 15], [4, 18], [5, 18], [6, 15], [7, 18], [8, 18], [9, 18], [10, 18], [11, 15], [12, 15], [13, 15], [14, 15], [15, 18], [16, 18], [17, 18], [18, 15], [19, 15], [20, 15], [21, 15], [22, 15], [23, 15], [24, 15], [25, 15], [26, 15], [27, 15], [28, 15], [29, 18], [30, 15], [31, 15], [32, 18], [33, 18], [34, 18], [35, 18], [36, 18], [37, 15], [38, 15], [39, 15], [40, 15], [41, 15], [42, 15], [43, 15], [44, 15], [45, 18], [46, 18], [47, 15], [48, 15], [49, 15], [50, 15], [51, 15], [52, 15], [53, 15], [54, 15], [55, 15], [56, 15], [57, 15], [58, 15], [59, 15], [60, 18], [61, 18], [62, 18], [63, 18], [64, 18], [65, 9], [66, 9], [67, 9], [68, 9], [69, 18], [70, 18], [71, 18], [72, 18], [73, 18], [74, 18], [75, 3], [76, 3], [77, 3], [78, 3], [79, 3], [80, 3], [81, 3], [82, 3], [83, 3], [84, 18], [85, 18], [86, 18], [87, 18], [88, 18], [89, 18], [90, 18], [91, 18], [92, 18], [93, 18], [94, 18], [95, 18], [96, 18], [97, 18], [98, 18], [99, 18], [100, 18], [101, 18], [102, 18], [103, 18], [104, 8], [105, 8], [106, 8], [107, 8], [108, 8], [109, 8], [110, 8], [111, 8], [112, 8], [113, 8], [114, 8], [115, 8], [116, 8], [117, 8], [118, 8], [119, 8], [120, 8], [121, 8], [122, 8], [123, 8], [124, 8], [125, 8], [126, 8], [127, 8], [128, 8], [129, 8], [130, 8], [131, 8], [132, 8], [133, 8], [134, 8], [135, 8], [136, 8], [137, 8], [138, 8], [139, 8], [140, 8], [141, 8], [142, 8], [143, 8], [144, 8], [145, 8], [146, 8], [147, 8], [148, 8], [149, 8], [150, 8], [151, 8], [152, 8], [153, 8], [154, 8], [155, 8], [156, 8], [157, 8], [158, 8], [159, 8], [160, 8], [161, 8], [162, 8], [163, 8], [164, 8], [165, 8], [166, 8], [167, 8], [168, 8], [169, 12], [170, 12], [171, 12], [172, 12], [173, 12], [174, 15], [175, 15], [176, 15], [177, 9], [178, 9], [179, 9], [180, 0], [181, 0], [182, 0], [183, 14], [184, 15], [185, 9], [186, 17], [187, 17], [188, 11], [189, 11], [190, 11], [191, 9], [192, 10], [193, 9], [194, 9], [195, 9], [196, 9], [197, 9], [198, 9], [199, 9], [200, 9], [201, 9], [202, 9], [203, 9], [204, 9], [205, 9], [206, 9], [207, 9], [208, 9], [209, 9], [210, 9], [211, 9], [212, 9], [213, 9], [214, 9], [215, 9], [216, 9], [217, 9], [218, 9], [219, 9], [220, 9], [221, 9], [222, 9], [223, 9], [224, 9], [225, 9], [226, 9], [227, 9], [228, 9], [229, 9], [230, 9], [231, 9], [232, 9], [233, 9], [234, 9], [235, 9], [236, 9], [237, 9], [238, 9], [239, 9], [240, 9], [241, 9], [242, 9], [243, 9], [244, 9], [245, 9], [246, 9], [247, 9], [248, 9], [249, 9], [250, 9], [251, 9], [252, 9], [253, 9], [254, 9], [255, 9], [256, 12], [257, 12], [258, 12], [259, 12], [260, 12], [261, 12], [262, 12], [263, 12], [264, 12], [265, 12], [266, 12], [267, 12], [268, 12], [269, 12], [270, 12], [271, 12], [272, 12], [273, 12], [274, 12], [275, 12], [276, 12], [277, 12], [278, 12], [279, 12], [280, 12], [281, 12], [282, 12], [283, 12], [284, 12], [285, 12], [286, 12], [287, 12], [288, 12], [289, 12], [290, 12], [291, 12], [292, 12], [293, 12], [294, 12], [295, 12], [296, 12], [297, 12], [298, 12], [299, 12], [300, 12], [301, 12], [302, 12], [303, 12], [304, 12], [305, 12], [306, 12], [307, 12], [308, 12], [309, 12], [310, 12], [311, 12], [312, 12], [313, 12], [314, 12], [315, 12], [316, 12], [317, 12], [318, 12], [319, 12]]\n"
     ]
    }
   ],
   "source": [
    "datasetfolder = 'dataset'\n",
    "word = '這是標準答案'\n",
    "class_name = word\n",
    "save_folder = os.path.join(datasetfolder, class_name)\n",
    "input_video = os.path.join(save_folder, 'output.mp4')\n",
    "input_json  = os.path.join(save_folder, 'segmented.json')\n",
    "time_mark_path=os.path.join(save_folder, 'time mark.json')\n",
    "output_folder = os.path.join(save_folder, 'results')\n",
    "os.makedirs(save_folder, exist_ok=True)\n",
    "results = []\n",
    "result_path = os.path.join(save_folder,'result.json')\n",
    "with open(result_path,'r') as f:\n",
    "    results =json.load(f)\n",
    "print(results)"
   ]
  },
  {
   "cell_type": "markdown",
   "metadata": {},
   "source": [
    "EXPIEREMENT"
   ]
  },
  {
   "cell_type": "markdown",
   "metadata": {},
   "source": [
    "區段取平均方法"
   ]
  },
  {
   "cell_type": "code",
   "execution_count": 64,
   "metadata": {},
   "outputs": [
    {
     "name": "stdout",
     "output_type": "stream",
     "text": [
      "320\n",
      "[-1, -1, -1, -1, -1, -1, -1, -1, -1, 15, 15, 15, 15, 15, 15, 15, 15, 15, 15, -1, -1, -1, -1, -1, -1, -1, -1, -1, -1, -1, -1, -1, -1, -1, 15, 15, 15, 15, 15, 15, 15, 15, 15, 15, 15, 15, 15, 15, 15, -1, -1, -1, -1, -1, -1, -1, -1, -1, -1, -1, -1, -1, -1, -1, -1, -1, -1, -1, -1, -1, -1, -1, -1, -1, -1, -1, -1, -1, 18, 18, 18, 18, 18, 18, 18, 18, 18, 18, 18, 18, 18, 18, 18, -1, -1, -1, -1, -1, -1, 8, 8, 8, 8, 8, 8, 8, 8, 8, 8, 8, 8, 8, 8, 8, 8, 8, 8, 8, 8, 8, 8, 8, 8, 8, 8, 8, 8, 8, 8, 8, 8, 8, 8, 8, 8, 8, 8, 8, 8, 8, 8, 8, 8, 8, 8, 8, 8, 8, 8, 8, 8, 8, 8, 8, 8, 8, 8, -1, -1, -1, -1, -1, -1, -1, -1, -1, -1, -1, -1, -1, -1, -1, -1, -1, -1, -1, -1, -1, -1, -1, -1, -1, -1, -1, -1, -1, -1, 9, 9, 9, 9, 9, 9, 9, 9, 9, 9, 9, 9, 9, 9, 9, 9, 9, 9, 9, 9, 9, 9, 9, 9, 9, 9, 9, 9, 9, 9, 9, 9, 9, 9, 9, 9, 9, 9, 9, 9, 9, 9, 9, 9, 9, 9, 9, 9, 9, 9, 9, 9, 9, 9, 9, 9, 9, -1, -1, -1, -1, -1, -1, 12, 12, 12, 12, 12, 12, 12, 12, 12, 12, 12, 12, 12, 12, 12, 12, 12, 12, 12, 12, 12, 12, 12, 12, 12, 12, 12, 12, 12, 12, 12, 12, 12, 12, 12, 12, 12, 12, 12, 12, 12, 12, 12, 12, 12, 12, 12, 12, 12, 12, 12, 12]\n",
      "[[11, 31, 23, 15], [37, 59, 26, 15], [84, 103, 26, 18], [104, 168, 70, 8], [191, 255, 69, 9], [256, 319, 70, 12]]\n"
     ]
    }
   ],
   "source": [
    "print(len(results))\n",
    "re=[]\n",
    "fp=18\n",
    "ra=int(fp*0.7)\n",
    "x = 0\n",
    "standard = 0\n",
    "for i in range(0, len(results)-fp):\n",
    "    tmp=[]\n",
    "    for j in range(0, fp):\n",
    "        tmp.append(results[j+i][1])\n",
    "    \n",
    "    tmp=sorted(tmp)\n",
    "    num=tmp.count(tmp[ra])\n",
    "    if num>=ra:\n",
    "        re.append(tmp[ra])\n",
    "    else:\n",
    "        re.append(-1)\n",
    "print(re)\n",
    "\n",
    "b=0\n",
    "ans=[]\n",
    "for i in range(1, len(re)):\n",
    "\n",
    "    if re[i] != re[i-1] :\n",
    "        if i+fp-x-b >= standard and re[i-1]!=-1:\n",
    "            x = 0\n",
    "            y = 0\n",
    "            for o in reversed(range(b,i+fp-x)):\n",
    "                if results[o][1]!=re[i-1]:\n",
    "                    x+=1\n",
    "                    #print([b,i+fp-x-1,i+fp-x-b,re[i-1]])\n",
    "                else:\n",
    "                    break\n",
    "            for o in range(b,i+fp-x):\n",
    "                if results[o][1]!=re[i-1]:\n",
    "                    y+=1\n",
    "                    #print([b,i+fp-x-1,i+fp-x-b,re[i-1]])\n",
    "                else:\n",
    "                    break\n",
    "            #print(x)\n",
    "            ans.append([b+y,i+fp-x-1,i+fp-x-b,re[i-1]])\n",
    "            x=0\n",
    "            y=0\n",
    "        b=i\n",
    "if i+fp-x-b >= standard and re[len(re)-1]!=-1:\n",
    "    x = 0\n",
    "    y = 0\n",
    "    for o in reversed(range(b,len(re)+fp-x)):\n",
    "        if results[o][1]!=re[len(re)-1]:\n",
    "            x+=1\n",
    "            #print([b,i+fp-x-1,i+fp-x-b,re[i-1]])\n",
    "        else:\n",
    "            break\n",
    "    for o in range(b,len(re)+fp-x):\n",
    "        if results[o][1]!=re[len(re)-1]:\n",
    "            y+=1\n",
    "            #print([b,i+fp-x-1,i+fp-x-b,re[i-1]])\n",
    "        else:\n",
    "            break\n",
    "    #print(x)\n",
    "    ans.append([b+y,len(re)+fp-x-1,len(re)+fp-x-b,re[len(re)-1]])\n",
    "    x=0\n",
    "    y=0\n",
    "    \n",
    "print(ans)\n",
    "\n",
    "lists_path = os.path.join(save_folder, 'lists.json')\n",
    "with open(lists_path,'w') as f:\n",
    "    json.dump(ans,f,indent=4)"
   ]
  },
  {
   "cell_type": "markdown",
   "metadata": {},
   "source": [
    "segmented and visualized"
   ]
  },
  {
   "cell_type": "code",
   "execution_count": 65,
   "metadata": {},
   "outputs": [
    {
     "name": "stdout",
     "output_type": "stream",
     "text": [
      "(11, 31)\n",
      "(20, 42, 2)\n",
      "(64, 42, 2) (64, 42, 2)\n",
      "(37, 59)\n",
      "(22, 42, 2)\n",
      "(64, 42, 2) (64, 42, 2)\n",
      "(84, 103)\n",
      "(19, 42, 2)\n",
      "(64, 42, 2) (64, 42, 2)\n",
      "(104, 168)\n",
      "(64, 42, 2)\n",
      "(64, 42, 2) (64, 42, 2)\n",
      "(191, 255)\n",
      "(64, 42, 2)\n",
      "(64, 42, 2) (64, 42, 2)\n",
      "(256, 319)\n",
      "(0,)\n",
      "(64, 42, 2) (64, 42, 2)\n"
     ]
    }
   ],
   "source": [
    "for i,thing in enumerate(ans):\n",
    "    output_folder = os.path.join(save_folder,'results')\n",
    "    time_mark = [[thing[0],thing[1]]]\n",
    "    split_func(input_json, output_folder, time_mark , i)\n",
    "    visualize(os.path.join(save_folder,'results',f'result_{i}.json'))"
   ]
  },
  {
   "cell_type": "markdown",
   "metadata": {},
   "source": [
    "~~check continuous~~"
   ]
  },
  {
   "cell_type": "code",
   "execution_count": null,
   "metadata": {},
   "outputs": [],
   "source": [
    "lists = []\n",
    "previous = results[0]\n",
    "for i,item in enumerate(results): #struct = [index,first_place]\n",
    "    if i != 0:\n",
    "        if item[1] == previous[1]:\n",
    "            pass\n",
    "        else:\n",
    "            lists.append([previous[0],item[0]-1,item[0]-previous[0],item[1]])\n",
    "            print((previous[0],item[0]-1,item[0]-previous[0],item[1]))\n",
    "            previous = item\n",
    "        if i == len(results)-1:\n",
    "            lists.append([previous[0],item[0],item[0]-previous[0],item[1]])\n",
    "lists_path = os.path.join(save_folder,'lists.json')\n",
    "with open(lists_path,'w') as f:\n",
    "    json.dump(lists,f,indent=4)"
   ]
  },
  {
   "cell_type": "markdown",
   "metadata": {},
   "source": [
    "~~篩選出above standard~~"
   ]
  },
  {
   "cell_type": "code",
   "execution_count": null,
   "metadata": {},
   "outputs": [],
   "source": [
    "#以下是參數\n",
    "acceptance_standard = 15 #長度在此以上將被採用\n",
    "\n",
    "above_standard = []\n",
    "for i,item in enumerate(lists):\n",
    "    if item[2]>=acceptance_standard:\n",
    "        above_standard.append((i,item))\n",
    "print(above_standard)"
   ]
  },
  {
   "cell_type": "markdown",
   "metadata": {},
   "source": [
    "~~檢查前後~~"
   ]
  },
  {
   "cell_type": "code",
   "execution_count": null,
   "metadata": {},
   "outputs": [],
   "source": [
    "#little_oopsie_standard = 2 #若在長度內，在此以下將被忽略\n",
    "check_range = 7 #在oopsie以外檢查是否為相同手型的範圍\n",
    "\n",
    "moveable_list = lists\n",
    "\n",
    "def isinrange(o):\n",
    "    for q,things in enumerate(lists):\n",
    "        #print(things[0],things[1])\n",
    "        if o<=things[1] and o >= things[0]:\n",
    "            #print(q)\n",
    "            return q\n",
    "\n",
    "output = []\n",
    "\n",
    "for whatever,item in enumerate(above_standard):\n",
    "    print(item)\n",
    "    i = item[0]\n",
    "    for o in range(item[1][0]-check_range,item[1][0]): #ok\n",
    "        #print(results[o])\n",
    "        if results[o][1] == item[1][3]:\n",
    "            moveable_list[i][0] = moveable_list[isinrange(o)][0]\n",
    "            moveable_list[i][2] = moveable_list[i][1] - moveable_list[i][0]\n",
    "            break\n",
    "    for o in range(item[1][0],item[1][1]+check_range):\n",
    "        if results[o][1] == item[1][3]:\n",
    "            moveable_list[i][1] = moveable_list[isinrange(o)][1]\n",
    "            moveable_list[i][2] = moveable_list[i][1] - moveable_list[i][0]\n",
    "            #print(moveable_list[i])\n",
    "            break\n",
    "for whatever,item in enumerate(above_standard):\n",
    "    output.append(moveable_list[item[0]])\n",
    "print(json.dumps(moveable_list,indent=4))\n",
    "print('\\n''')\n",
    "print(json.dumps(output,indent=4))"
   ]
  }
 ],
 "metadata": {
  "kernelspec": {
   "display_name": "SLPT",
   "language": "python",
   "name": "python3"
  },
  "language_info": {
   "codemirror_mode": {
    "name": "ipython",
    "version": 3
   },
   "file_extension": ".py",
   "mimetype": "text/x-python",
   "name": "python",
   "nbconvert_exporter": "python",
   "pygments_lexer": "ipython3",
   "version": "3.9.19"
  }
 },
 "nbformat": 4,
 "nbformat_minor": 2
}
