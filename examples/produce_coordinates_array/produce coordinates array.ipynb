{
 "cells": [
  {
   "cell_type": "markdown",
   "metadata": {},
   "source": [
    "# init the example"
   ]
  },
  {
   "cell_type": "code",
   "execution_count": 4,
   "metadata": {},
   "outputs": [
    {
     "name": "stderr",
     "output_type": "stream",
     "text": [
      "Downloading...\n",
      "From: https://drive.google.com/uc?id=1JFoJDHtsbXCw3cRg8u405pJD0QXMi5NE\n",
      "To: d:\\Project-SEKAI\\Project-SEKAI\\examples\\produce_coordinates_array\\Dataset\\2022-3-9-1400.srt\n",
      "100%|██████████| 17.3k/17.3k [00:00<00:00, 17.3MB/s]\n",
      "Downloading...\n",
      "From (original): https://drive.google.com/uc?id=1JDI8KXdmwHPRtV3KIs3HkdRbPgSCsiWc\n",
      "From (redirected): https://drive.google.com/uc?id=1JDI8KXdmwHPRtV3KIs3HkdRbPgSCsiWc&confirm=t&uuid=8710a8ae-0c57-4cee-b843-8ec41b0a93f5\n",
      "To: d:\\Project-SEKAI\\Project-SEKAI\\examples\\produce_coordinates_array\\Dataset\\2022-3-9-1400.mp4\n",
      "100%|██████████| 244M/244M [00:21<00:00, 11.4MB/s] \n"
     ]
    },
    {
     "data": {
      "text/plain": [
       "'Dataset\\\\2022-3-9-1400.mp4'"
      ]
     },
     "execution_count": 4,
     "metadata": {},
     "output_type": "execute_result"
    }
   ],
   "source": [
    "import gdown\n",
    "gdown.download('https://drive.google.com/uc?id=1JFoJDHtsbXCw3cRg8u405pJD0QXMi5NE', \n",
    "               r'Dataset\\2022-3-9-1400.srt')\n",
    "gdown.download('https://drive.google.com/uc?id=1JDI8KXdmwHPRtV3KIs3HkdRbPgSCsiWc', \n",
    "               r'Dataset\\2022-3-9-1400.mp4')"
   ]
  },
  {
   "cell_type": "code",
   "execution_count": 3,
   "metadata": {},
   "outputs": [],
   "source": [
    "import os\n",
    "from datafactory import integration\n",
    "import json\n",
    "import os\n",
    "Data_path = 'Dataset'\n",
    "input_video_path_list = os.listdir(Data_path)"
   ]
  },
  {
   "cell_type": "markdown",
   "metadata": {},
   "source": [
    "# produce"
   ]
  },
  {
   "cell_type": "code",
   "execution_count": null,
   "metadata": {},
   "outputs": [],
   "source": [
    "for video_path in input_video_path_list:\n",
    "    integration(os.path.join(Data_path, video_path))"
   ]
  }
 ],
 "metadata": {
  "kernelspec": {
   "display_name": "base",
   "language": "python",
   "name": "python3"
  },
  "language_info": {
   "codemirror_mode": {
    "name": "ipython",
    "version": 3
   },
   "file_extension": ".py",
   "mimetype": "text/x-python",
   "name": "python",
   "nbconvert_exporter": "python",
   "pygments_lexer": "ipython3",
   "version": "3.11.4"
  }
 },
 "nbformat": 4,
 "nbformat_minor": 2
}
