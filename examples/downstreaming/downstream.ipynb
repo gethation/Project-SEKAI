{
 "cells": [
  {
   "cell_type": "code",
   "execution_count": null,
   "metadata": {},
   "outputs": [],
   "source": [
    "import json \n",
    "import os\n",
    "from tqdm.auto import tqdm\n",
    "from utils import web_cam, node_json, split_json, visualize, web_cam_photo\n",
    "import gdown\n",
    "gdown.download('https://drive.google.com/uc?id=16_Ntdx-Wvn5Lf2F1MmcdGrPasNHwjkin', \n",
    "               r'model\\epoch 3-4200 weight.pt')\n",
    "gdown.download('https://drive.google.com/uc?id=1Znb_UM4PmlL-qXY5iBaU9hQcxeQC4OkI',\n",
    "               'model\\checkpoint.tar')"
   ]
  },
  {
   "cell_type": "code",
   "execution_count": null,
   "metadata": {},
   "outputs": [],
   "source": [
    "datasetfolder = 'dataset'\n",
    "class_name = '_'\n",
    "save_folder = os.path.join(datasetfolder, class_name)\n",
    "input_video = os.path.join(save_folder, 'output.mp4')\n",
    "input_json  = os.path.join(save_folder, 'nodes.json')\n",
    "time_mark_path=os.path.join(save_folder, 'time mark.json')\n",
    "output_folder = os.path.join(save_folder, class_name)\n",
    "json_path = os.path.join(f'{datasetfolder}\\{class_name}\\{class_name}',os.listdir(f'{datasetfolder}\\{class_name}\\{class_name}')[-1])\n",
    "os.makedirs(save_folder, exist_ok=True)"
   ]
  },
  {
   "cell_type": "code",
   "execution_count": null,
   "metadata": {},
   "outputs": [],
   "source": [
    "# input_video = r\"C:\\Users\\Huang\\Downloads\\Taiwan.mp4\"\n",
    "web_cam(save_folder=save_folder, break_time=2)\n",
    "# web_cam_photo(img_path=img_path,save_folder=save_folder)\n",
    "node_json(input_video, save_folder)\n",
    "split_json(input_json, output_folder, time_mark_path)\n",
    "visualize(json_path, 32)"
   ]
  },
  {
   "cell_type": "markdown",
   "metadata": {},
   "source": [
    "# build model and get feature"
   ]
  },
  {
   "cell_type": "markdown",
   "metadata": {},
   "source": [
    "import torch\n",
    "from utils import buit_eval_model, load_json\n",
    "\n",
    "model_path = r'model\\epoch 3-4200 weight.pt'\n",
    "CHECKPOINT_PATH = r'model\\checkpoint.tar'\n",
    "\n",
    "checkpoint = torch.load(CHECKPOINT_PATH)\n",
    "step = checkpoint['step']\n",
    "mean = checkpoint['mean']\n",
    "std = checkpoint['std']"
   ]
  },
  {
   "cell_type": "code",
   "execution_count": null,
   "metadata": {},
   "outputs": [],
   "source": [
    "model = buit_eval_model(model_path)"
   ]
  },
  {
   "cell_type": "code",
   "execution_count": null,
   "metadata": {},
   "outputs": [],
   "source": [
    "x = load_json(json_path, mean, std).to('cuda')\n",
    "prediction = model(x)"
   ]
  }
 ],
 "metadata": {
  "language_info": {
   "name": "python"
  }
 },
 "nbformat": 4,
 "nbformat_minor": 2
}
