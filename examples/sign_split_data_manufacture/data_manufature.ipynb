{
 "cells": [
  {
   "cell_type": "markdown",
   "metadata": {},
   "source": [
    "installing tools and weights"
   ]
  },
  {
   "cell_type": "code",
   "execution_count": 1,
   "metadata": {},
   "outputs": [],
   "source": [
    "import json \n",
    "import os\n",
    "from tqdm.auto import tqdm\n",
    "from utils import web_cam, node_json, split_json, visualize, web_cam_photo\n",
    "import gdown\n",
    "# gdown.download('https://drive.google.com/uc?id=16_Ntdx-Wvn5Lf2F1MmcdGrPasNHwjkin', \n",
    "#                r'model\\epoch 3-4200 weight.pt')\n",
    "# gdown.download('https://drive.google.com/uc?id=1Znb_UM4PmlL-qXY5iBaU9hQcxeQC4OkI',\n",
    "#                'model\\checkpoint.tar')"
   ]
  },
  {
   "cell_type": "markdown",
   "metadata": {},
   "source": [
    "creat folder & data"
   ]
  },
  {
   "cell_type": "markdown",
   "metadata": {},
   "source": [
    "FINALE"
   ]
  },
  {
   "cell_type": "code",
   "execution_count": 31,
   "metadata": {},
   "outputs": [
    {
     "name": "stdout",
     "output_type": "stream",
     "text": [
      "1920\n"
     ]
    }
   ],
   "source": [
    "ratio = 64 #每帧複製次數\n",
    "interval = 1 #隔幾幀\n",
    "datasetfolder = 'dataset'\n",
    "length = 60\n",
    "import numpy as np\n",
    "\n",
    "datasetfolder = 'dataset'\n",
    "word = '5-4'\n",
    "class_name = word\n",
    "save_folder = os.path.join(datasetfolder, class_name)\n",
    "input_video = os.path.join(save_folder, 'output.mp4')\n",
    "input_json  = os.path.join(save_folder, 'nodes.json')\n",
    "time_mark_path=os.path.join(save_folder, 'time mark.json')\n",
    "output_folder = os.path.join(save_folder, 'output')\n",
    "os.makedirs(save_folder, exist_ok=True)\n",
    "\n",
    "# web_cam(save_folder=save_folder, recording_time=length, break_time=2)\n",
    "# node_json(input_video, save_folder)\n",
    "# split_json(input_json,\n",
    "#            save_folder,\n",
    "#            time_mark_path,\n",
    "#            uniform_length=length*32)\n",
    "json_path = os.path.join(save_folder,'segmented.json')\n",
    "# visualize(json_path, 1280)\n",
    "\n",
    "with open(json_path, 'r') as f:\n",
    "    splited_json = json.load(f)\n",
    "print(len(splited_json))\n",
    "indices = [i for i in range(20)] + [(i+21) for i in range(20)]\n",
    "data = np.array(splited_json)\n",
    "x = data[:, indices, :]\n",
    "container = np.zeros_like(x)\n",
    "container[:,20:] = x[:,20:]\n",
    "selected_data = container\n",
    "\n",
    "\n",
    "output_path = os.path.join(save_folder, class_name)\n",
    "os.makedirs(output_path, exist_ok=True)\n",
    "for i, index in enumerate(range(0, len(splited_json), interval)):\n",
    "    output_container = []\n",
    "\n",
    "    for _ in range(ratio):\n",
    "        output_container.append(selected_data[index].tolist())\n",
    "\n",
    "    with open(os.path.join(output_path, f'{word}_output_data_{i}.json'), 'w') as file:\n",
    "        json.dump(output_container, file,indent=4)"
   ]
  },
  {
   "cell_type": "code",
   "execution_count": 5,
   "metadata": {},
   "outputs": [],
   "source": []
  }
 ],
 "metadata": {
  "kernelspec": {
   "display_name": "SLPT",
   "language": "python",
   "name": "python3"
  },
  "language_info": {
   "codemirror_mode": {
    "name": "ipython",
    "version": 3
   },
   "file_extension": ".py",
   "mimetype": "text/x-python",
   "name": "python",
   "nbconvert_exporter": "python",
   "pygments_lexer": "ipython3",
   "version": "3.9.13"
  }
 },
 "nbformat": 4,
 "nbformat_minor": 2
}
