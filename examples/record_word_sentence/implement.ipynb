{
 "cells": [
  {
   "cell_type": "code",
   "execution_count": 1,
   "metadata": {},
   "outputs": [],
   "source": [
    "import json \n",
    "import os\n",
    "from tqdm.auto import tqdm\n",
    "from utils import web_cam, node_json, split_json, visualize, web_cam_photo\n",
    "import gdown"
   ]
  },
  {
   "cell_type": "markdown",
   "metadata": {},
   "source": [
    "# next"
   ]
  },
  {
   "cell_type": "code",
   "execution_count": 176,
   "metadata": {},
   "outputs": [
    {
     "name": "stdout",
     "output_type": "stream",
     "text": [
      "current class{'elemtext': '工作還沒完成，繼續把它做完', 'elemsplit': '工作/完/還沒/再_A/繼續/工作/完', 'url': 'https://twtsl.ccu.edu.tw/TSL//sentence/f/S-for.mp4', 'sep_videos': ['https://twtsl.ccu.edu.tw/TSL//video/d/do.mp4', 'https://twtsl.ccu.edu.tw/TSL//video/f/finish.mp4', 'https://twtsl.ccu.edu.tw/TSL//video/n/not_yet.mp4', 'https://twtsl.ccu.edu.tw/TSL//video/a/again.mp4', 'https://twtsl.ccu.edu.tw/TSL//video/f/for.mp4', 'https://twtsl.ccu.edu.tw/TSL//video/d/do.mp4', 'https://twtsl.ccu.edu.tw/TSL//video/f/finish.mp4']}\n"
     ]
    }
   ],
   "source": [
    "with open('index.json', 'r') as f:\n",
    "    x = json.load(f)\n",
    "x += 1\n",
    "with open('index.json', 'w') as f:\n",
    "    json.dump(x, f)\n",
    "\n",
    "with open('finale_output.json','r') as f:\n",
    "    videos = json.load(f)\n",
    "\n",
    "print(f'current class{videos[x]}')"
   ]
  },
  {
   "cell_type": "markdown",
   "metadata": {},
   "source": [
    "# back"
   ]
  },
  {
   "cell_type": "code",
   "execution_count": 118,
   "metadata": {},
   "outputs": [
    {
     "name": "stdout",
     "output_type": "stream",
     "text": [
      "current class{'elemtext': '她可以跟我們一起去旅遊嗎', 'elemsplit': '我們/一起/去/旅行/玩/她/加入/可以', 'url': 'https://twtsl.ccu.edu.tw/TSL//sentence/m/S-may.mp4', 'sep_videos': ['https://twtsl.ccu.edu.tw/TSL//video/w/we.mp4', 'https://twtsl.ccu.edu.tw/TSL//video/t/together.mp4', 'https://twtsl.ccu.edu.tw/TSL//video/g/go_b.mp4', 'https://twtsl.ccu.edu.tw/TSL//video/t/travel.mp4', 'https://twtsl.ccu.edu.tw/TSL//video/p/play.mp4', 'https://twtsl.ccu.edu.tw/TSL//video/s/she_a.mp4', 'https://twtsl.ccu.edu.tw/TSL//video/j/join_b.mp4', 'https://twtsl.ccu.edu.tw/TSL//video/m/may.mp4']}\n"
     ]
    }
   ],
   "source": [
    "with open('index.json', 'r') as f:\n",
    "    x = json.load(f)\n",
    "x -= 1\n",
    "with open('index.json', 'w') as f:\n",
    "    json.dump(x, f)\n",
    "\n",
    "print(f'current class{videos[x]}')"
   ]
  },
  {
   "cell_type": "markdown",
   "metadata": {},
   "source": [
    "# record"
   ]
  },
  {
   "cell_type": "code",
   "execution_count": 180,
   "metadata": {},
   "outputs": [
    {
     "name": "stdout",
     "output_type": "stream",
     "text": [
      "工作還沒完成，繼續把它做完\n",
      "2 295\n",
      "(241, 67, 2)\n",
      "(256, 67, 2) (32, 67, 2)\n"
     ]
    }
   ],
   "source": [
    "ratio = 64 #每帧複製次數\n",
    "# interval = 4 #隔幾幀\n",
    "datasetfolder = 'dataset'\n",
    "length = 8\n",
    "import numpy as np\n",
    "\n",
    "with open('finale_output.json','r') as f:\n",
    "    videos = json.load(f)\n",
    "\n",
    "\n",
    "index = x\n",
    "datasetfolder = 'dataset'\n",
    "word = videos[int(index)]['elemtext']\n",
    "video_url = videos[int(index)]['url']\n",
    "\n",
    "\n",
    "class_name = word\n",
    "\n",
    "print(word)\n",
    "save_folder = os.path.join(datasetfolder, class_name)\n",
    "input_video = os.path.join(save_folder, 'output.mp4')\n",
    "input_json  = os.path.join(save_folder, 'nodes.json')\n",
    "time_mark_path=os.path.join(save_folder, 'time mark.json')\n",
    "output_folder = os.path.join(save_folder, 'output')\n",
    "os.makedirs(save_folder, exist_ok=True)\n",
    "\n",
    "web_cam(save_folder=save_folder, recording_time=length, break_time=2)\n",
    "node_json(input_video, save_folder)\n",
    "split_json(input_json,\n",
    "           output_folder,\n",
    "           time_mark_path,\n",
    "           uniform_length=length*32)\n",
    "json_path = os.path.join(output_folder,'segment_0.json')\n",
    "visualize(json_path, 32)"
   ]
  },
  {
   "cell_type": "markdown",
   "metadata": {},
   "source": []
  }
 ],
 "metadata": {
  "kernelspec": {
   "display_name": "base",
   "language": "python",
   "name": "python3"
  },
  "language_info": {
   "codemirror_mode": {
    "name": "ipython",
    "version": 3
   },
   "file_extension": ".py",
   "mimetype": "text/x-python",
   "name": "python",
   "nbconvert_exporter": "python",
   "pygments_lexer": "ipython3",
   "version": "3.9.13"
  }
 },
 "nbformat": 4,
 "nbformat_minor": 2
}
